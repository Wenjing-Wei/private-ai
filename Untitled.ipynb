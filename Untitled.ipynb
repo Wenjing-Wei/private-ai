{
 "cells": [
  {
   "cell_type": "code",
   "execution_count": 139,
   "metadata": {},
   "outputs": [],
   "source": [
    " import torch as th"
   ]
  },
  {
   "cell_type": "code",
   "execution_count": 140,
   "metadata": {},
   "outputs": [],
   "source": [
    " import syft as sy"
   ]
  },
  {
   "cell_type": "code",
   "execution_count": 141,
   "metadata": {},
   "outputs": [],
   "source": [
    "from torch import nn, optim"
   ]
  },
  {
   "cell_type": "code",
   "execution_count": 142,
   "metadata": {},
   "outputs": [],
   "source": [
    "import torch.tensor as tensor"
   ]
  },
  {
   "cell_type": "code",
   "execution_count": 143,
   "metadata": {},
   "outputs": [],
   "source": [
    "hook = sy.TorchHook(th)"
   ]
  },
  {
   "cell_type": "code",
   "execution_count": 144,
   "metadata": {},
   "outputs": [],
   "source": [
    "bob = sy.VirtualWorker(hook, id='bob')\n",
    "\n",
    "alice = sy.VirtualWorker(hook, id='alice')\n",
    "\n",
    "joe = sy.VirtualWorker(hook, id='joe')"
   ]
  },
  {
   "cell_type": "code",
   "execution_count": 211,
   "metadata": {},
   "outputs": [
    {
     "data": {
      "text/plain": [
       "<VirtualWorker id:joe #objects:0>"
      ]
     },
     "execution_count": 211,
     "metadata": {},
     "output_type": "execute_result"
    }
   ],
   "source": [
    "bob.clear_objects()\n",
    "alice.clear_objects()\n",
    "joe.clear_objects()\n"
   ]
  },
  {
   "cell_type": "code",
   "execution_count": 212,
   "metadata": {},
   "outputs": [],
   "source": [
    "data = th.tensor([[1.,1], [0,1], [1,0], [0,0]], requires_grad=True)\n",
    "\n",
    "target = th.tensor([[1.], [1], [0], [0]], requires_grad=True)"
   ]
  },
  {
   "cell_type": "code",
   "execution_count": 213,
   "metadata": {},
   "outputs": [],
   "source": [
    "data_bob = data[0:2].send(bob)\n",
    "target_bob = target[0:2].send(bob)\n",
    "data_alice = data[2:4].send(alice)\n",
    "target_alice = target[2:4].send(alice)"
   ]
  },
  {
   "cell_type": "code",
   "execution_count": 214,
   "metadata": {},
   "outputs": [],
   "source": [
    "def train(iterations=100):\n",
    "    model = nn.Linear(2,1)\n",
    "    opt = optim.SGD(params=model.parameters(), lr=0.01)\n",
    "    loss_fn = nn.MSELoss()\n",
    "    for iter in range(iterations):\n",
    "        model.send(bob)\n",
    "        pred = model(data_bob)\n",
    "        loss = loss_fn(pred, target_bob)\n",
    "        loss.backward()\n",
    "        for name, param in model.named_parameters():\n",
    "            joe._objects[name + '_grad' + '_bob'] = param.grad.copy().get()\n",
    "        for param in model.parameters():\n",
    "            param.move(alice)\n",
    "        pred = model(data_alice)\n",
    "        loss = loss_fn(pred, target_alice)\n",
    "        loss.backward()\n",
    "        for name, param in model.named_parameters():\n",
    "            joe._objects[name + '_grad' + '_alice'] = param.grad.copy().get()\n",
    "        aggregated_grad = [joe._objects['weight_grad_bob'] + joe._objects['weight_grad_alice'], joe._objects['bias_grad_bob'] + joe._objects['bias_grad_alice']]\n",
    "        model.get()\n",
    "        for param, grad in zip(model.parameters(), aggregated_grad):\n",
    "            param.grad = grad\n",
    "        opt.step()    \n",
    "        opt.zero_grad()\n",
    "        pred = model(data)\n",
    "        loss = loss_fn(pred, target)\n",
    "        print(loss)\n",
    "    "
   ]
  },
  {
   "cell_type": "code",
   "execution_count": 215,
   "metadata": {},
   "outputs": [],
   "source": [
    "train(1000)"
   ]
  },
  {
   "cell_type": "code",
   "execution_count": 216,
   "metadata": {},
   "outputs": [
    {
     "data": {
      "text/plain": [
       "Linear(in_features=2, out_features=1, bias=True)"
      ]
     },
     "execution_count": 216,
     "metadata": {},
     "output_type": "execute_result"
    }
   ],
   "source": [
    "model"
   ]
  },
  {
   "cell_type": "code",
   "execution_count": 12,
   "metadata": {},
   "outputs": [
    {
     "data": {
      "text/plain": [
       "True"
      ]
     },
     "execution_count": 12,
     "metadata": {},
     "output_type": "execute_result"
    }
   ],
   "source": [
    "0.00046824084487846794 -0.00028808902930830616 < 0.00046824084487846794 -0.00028808902930830616"
   ]
  },
  {
   "cell_type": "code",
   "execution_count": null,
   "metadata": {},
   "outputs": [],
   "source": []
  }
 ],
 "metadata": {
  "kernelspec": {
   "display_name": "Python 3",
   "language": "python",
   "name": "python3"
  },
  "language_info": {
   "codemirror_mode": {
    "name": "ipython",
    "version": 3
   },
   "file_extension": ".py",
   "mimetype": "text/x-python",
   "name": "python",
   "nbconvert_exporter": "python",
   "pygments_lexer": "ipython3",
   "version": "3.7.7"
  }
 },
 "nbformat": 4,
 "nbformat_minor": 4
}
