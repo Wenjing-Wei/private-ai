{
 "cells": [
  {
   "cell_type": "code",
   "execution_count": null,
   "metadata": {
    "collapsed": true
   },
   "outputs": [],
   "source": [
    "# install required packages\n",
    "conda create -n pysyft python=3.7\n",
    "conda activate pysyft\n",
    "conda install numpy jupyter notebook\n",
    "conda install pytorch torchvision -c pytorch\n",
    "pip install syft==0.2.9"
   ]
  },
  {
   "cell_type": "code",
   "execution_count": 20,
   "outputs": [
    {
     "name": "stderr",
     "output_type": "stream",
     "text": [
      "WARNING:root:Torch was already hooked... skipping hooking process\n"
     ]
    }
   ],
   "source": [
    "# load required packages\n",
    "import syft as sy\n",
    "import torch as th\n",
    "hook = sy.TorchHook(th)\n",
    "from torch import nn, optim\n",
    "import numpy as np\n",
    "import torch"
   ],
   "metadata": {
    "collapsed": false
   }
  },
  {
   "cell_type": "code",
   "execution_count": 21,
   "outputs": [],
   "source": [
    "# create virtual workers\n",
    "bob = sy.VirtualWorker(hook, id='bob')\n",
    "alice = sy.VirtualWorker(hook, id='alice')\n",
    "server_1 = sy.VirtualWorker(hook, id='server_1')\n",
    "server_2 = sy.VirtualWorker(hook, id='server_2')\n",
    "server_3 = sy.VirtualWorker(hook, id='server_3')"
   ],
   "metadata": {
    "collapsed": false
   }
  },
  {
   "cell_type": "code",
   "execution_count": 22,
   "outputs": [
    {
     "data": {
      "text/plain": "<VirtualWorker id:server_3 #objects:0>"
     },
     "execution_count": 22,
     "metadata": {},
     "output_type": "execute_result"
    }
   ],
   "source": [
    "# clear workers objects\n",
    "bob.clear_objects()\n",
    "alice.clear_objects()\n",
    "server_1.clear_objects()\n",
    "server_2.clear_objects()\n",
    "server_3.clear_objects()"
   ],
   "metadata": {
    "collapsed": false
   }
  },
  {
   "cell_type": "code",
   "execution_count": 23,
   "outputs": [
    {
     "name": "stderr",
     "output_type": "stream",
     "text": [
      "WARNING:syft.workers.base:Worker alice already exists. Replacing old worker which could cause                     unexpected behavior\n",
      "WARNING:syft.workers.base:Worker server_1 already exists. Replacing old worker which could cause                     unexpected behavior\n",
      "WARNING:syft.workers.base:Worker server_2 already exists. Replacing old worker which could cause                     unexpected behavior\n",
      "WARNING:syft.workers.base:Worker server_3 already exists. Replacing old worker which could cause                     unexpected behavior\n",
      "WARNING:syft.workers.base:Worker bob already exists. Replacing old worker which could cause                     unexpected behavior\n",
      "WARNING:syft.workers.base:Worker server_1 already exists. Replacing old worker which could cause                     unexpected behavior\n",
      "WARNING:syft.workers.base:Worker server_2 already exists. Replacing old worker which could cause                     unexpected behavior\n",
      "WARNING:syft.workers.base:Worker server_3 already exists. Replacing old worker which could cause                     unexpected behavior\n",
      "WARNING:syft.workers.base:Worker alice already exists. Replacing old worker which could cause                     unexpected behavior\n",
      "WARNING:syft.workers.base:Worker bob already exists. Replacing old worker which could cause                     unexpected behavior\n",
      "WARNING:syft.workers.base:Worker server_2 already exists. Replacing old worker which could cause                     unexpected behavior\n",
      "WARNING:syft.workers.base:Worker server_3 already exists. Replacing old worker which could cause                     unexpected behavior\n",
      "WARNING:syft.workers.base:Worker alice already exists. Replacing old worker which could cause                     unexpected behavior\n",
      "WARNING:syft.workers.base:Worker bob already exists. Replacing old worker which could cause                     unexpected behavior\n",
      "WARNING:syft.workers.base:Worker server_1 already exists. Replacing old worker which could cause                     unexpected behavior\n",
      "WARNING:syft.workers.base:Worker server_3 already exists. Replacing old worker which could cause                     unexpected behavior\n",
      "WARNING:syft.workers.base:Worker alice already exists. Replacing old worker which could cause                     unexpected behavior\n",
      "WARNING:syft.workers.base:Worker bob already exists. Replacing old worker which could cause                     unexpected behavior\n",
      "WARNING:syft.workers.base:Worker server_1 already exists. Replacing old worker which could cause                     unexpected behavior\n",
      "WARNING:syft.workers.base:Worker server_2 already exists. Replacing old worker which could cause                     unexpected behavior\n"
     ]
    },
    {
     "data": {
      "text/plain": "<VirtualWorker id:server_3 #objects:0>"
     },
     "execution_count": 23,
     "metadata": {},
     "output_type": "execute_result"
    }
   ],
   "source": [
    "# add workers to the list of workers\n",
    "bob.add_workers([alice, server_1, server_2, server_3])\n",
    "alice.add_workers([bob, server_1, server_2, server_3])\n",
    "server_1.add_workers([alice, bob, server_2, server_3])\n",
    "server_2.add_workers([alice, bob, server_1, server_3])\n",
    "server_3.add_workers([alice, bob, server_1, server_2])"
   ],
   "metadata": {
    "collapsed": false
   }
  },
  {
   "cell_type": "code",
   "execution_count": 24,
   "outputs": [],
   "source": [
    "# load data and target, and send them to workers\n",
    "data = torch.load('data.pt')\n",
    "target = torch.load('target.pt')\n",
    "\n",
    "data_train = data[0:6000]\n",
    "target_train = target[0:6000]\n",
    "\n",
    "data_val = data[6000:8000]\n",
    "target_val = target[6000:8000]\n",
    "\n",
    "data_test = data[8000:10000]\n",
    "target_test = target[8000:10000]\n",
    "\n",
    "bobs_data = data_train[0:3000].send(bob)\n",
    "bobs_target = target_train[0:3000].send(bob)\n",
    "\n",
    "alices_data = data_train[3000:6000].send(alice)\n",
    "alices_target = target_train[3000:6000].send(alice)\n"
   ],
   "metadata": {
    "collapsed": false
   }
  },
  {
   "cell_type": "code",
   "execution_count": 25,
   "outputs": [
    {
     "name": "stdout",
     "output_type": "stream",
     "text": [
      "1 train loss:tensor(1.9307) val loss:tensor(1.9652)\n",
      "2 train loss:tensor(1.8452) val loss:tensor(1.8787)\n",
      "3 train loss:tensor(1.7623) val loss:tensor(1.7948)\n",
      "4 train loss:tensor(1.6813) val loss:tensor(1.7129)\n",
      "5 train loss:tensor(1.6026) val loss:tensor(1.6332)\n",
      "6 train loss:tensor(1.5259) val loss:tensor(1.5555)\n",
      "7 train loss:tensor(1.4516) val loss:tensor(1.4802)\n",
      "8 train loss:tensor(1.3788) val loss:tensor(1.4065)\n",
      "9 train loss:tensor(1.3083) val loss:tensor(1.3351)\n",
      "10 train loss:tensor(1.2397) val loss:tensor(1.2655)\n"
     ]
    },
    {
     "ename": "KeyboardInterrupt",
     "evalue": "",
     "output_type": "error",
     "traceback": [
      "\u001B[1;31m---------------------------------------------------------------------------\u001B[0m",
      "\u001B[1;31mKeyboardInterrupt\u001B[0m                         Traceback (most recent call last)",
      "\u001B[1;32m~\\AppData\\Local\\Temp\\ipykernel_18176\\3473744842.py\u001B[0m in \u001B[0;36m<module>\u001B[1;34m\u001B[0m\n\u001B[0;32m     11\u001B[0m     \u001B[0mbobs_bias_grad\u001B[0m \u001B[1;33m=\u001B[0m \u001B[1;36m0\u001B[0m\u001B[1;33m\u001B[0m\u001B[1;33m\u001B[0m\u001B[0m\n\u001B[0;32m     12\u001B[0m     \u001B[1;32mfor\u001B[0m \u001B[0mexample\u001B[0m\u001B[1;33m,\u001B[0m \u001B[0mtarget\u001B[0m \u001B[1;32min\u001B[0m \u001B[0mzip\u001B[0m\u001B[1;33m(\u001B[0m\u001B[0mbobs_data\u001B[0m\u001B[1;33m,\u001B[0m \u001B[0mbobs_target\u001B[0m\u001B[1;33m)\u001B[0m\u001B[1;33m:\u001B[0m\u001B[1;33m\u001B[0m\u001B[1;33m\u001B[0m\u001B[0m\n\u001B[1;32m---> 13\u001B[1;33m         \u001B[0mweight_grad\u001B[0m \u001B[1;33m=\u001B[0m \u001B[0mth\u001B[0m\u001B[1;33m.\u001B[0m\u001B[0mmm\u001B[0m\u001B[1;33m(\u001B[0m\u001B[0mth\u001B[0m\u001B[1;33m.\u001B[0m\u001B[0mmm\u001B[0m\u001B[1;33m(\u001B[0m\u001B[0mexample\u001B[0m\u001B[1;33m.\u001B[0m\u001B[0mcopy\u001B[0m\u001B[1;33m(\u001B[0m\u001B[1;33m)\u001B[0m\u001B[1;33m.\u001B[0m\u001B[0mget\u001B[0m\u001B[1;33m(\u001B[0m\u001B[1;33m)\u001B[0m\u001B[1;33m.\u001B[0m\u001B[0mview\u001B[0m\u001B[1;33m(\u001B[0m\u001B[1;36m1\u001B[0m\u001B[1;33m,\u001B[0m \u001B[1;36m2\u001B[0m\u001B[1;33m)\u001B[0m\u001B[1;33m,\u001B[0m \u001B[0mbobs_model\u001B[0m\u001B[1;33m.\u001B[0m\u001B[0mweight\u001B[0m\u001B[1;33m.\u001B[0m\u001B[0mcopy\u001B[0m\u001B[1;33m(\u001B[0m\u001B[1;33m)\u001B[0m\u001B[1;33m.\u001B[0m\u001B[0mget\u001B[0m\u001B[1;33m(\u001B[0m\u001B[1;33m)\u001B[0m\u001B[1;33m.\u001B[0m\u001B[0mtranspose\u001B[0m\u001B[1;33m(\u001B[0m\u001B[1;36m1\u001B[0m\u001B[1;33m,\u001B[0m \u001B[1;36m0\u001B[0m\u001B[1;33m)\u001B[0m\u001B[1;33m)\u001B[0m \u001B[1;33m+\u001B[0m \u001B[0mbobs_model\u001B[0m\u001B[1;33m.\u001B[0m\u001B[0mbias\u001B[0m\u001B[1;33m.\u001B[0m\u001B[0mcopy\u001B[0m\u001B[1;33m(\u001B[0m\u001B[1;33m)\u001B[0m\u001B[1;33m.\u001B[0m\u001B[0mget\u001B[0m\u001B[1;33m(\u001B[0m\u001B[1;33m)\u001B[0m \u001B[1;33m-\u001B[0m \u001B[0mtarget\u001B[0m\u001B[1;33m.\u001B[0m\u001B[0mcopy\u001B[0m\u001B[1;33m(\u001B[0m\u001B[1;33m)\u001B[0m\u001B[1;33m.\u001B[0m\u001B[0mget\u001B[0m\u001B[1;33m(\u001B[0m\u001B[1;33m)\u001B[0m\u001B[1;33m,\u001B[0m \u001B[0mexample\u001B[0m\u001B[1;33m.\u001B[0m\u001B[0mcopy\u001B[0m\u001B[1;33m(\u001B[0m\u001B[1;33m)\u001B[0m\u001B[1;33m.\u001B[0m\u001B[0mget\u001B[0m\u001B[1;33m(\u001B[0m\u001B[1;33m)\u001B[0m\u001B[1;33m.\u001B[0m\u001B[0mview\u001B[0m\u001B[1;33m(\u001B[0m\u001B[1;36m1\u001B[0m\u001B[1;33m,\u001B[0m \u001B[1;36m2\u001B[0m\u001B[1;33m)\u001B[0m\u001B[1;33m)\u001B[0m \u001B[1;33m*\u001B[0m \u001B[1;36m2\u001B[0m\u001B[1;33m\u001B[0m\u001B[1;33m\u001B[0m\u001B[0m\n\u001B[0m\u001B[0;32m     14\u001B[0m         \u001B[0mweight_grad\u001B[0m \u001B[1;33m=\u001B[0m \u001B[0mweight_grad\u001B[0m\u001B[1;33m.\u001B[0m\u001B[0mdata\u001B[0m\u001B[1;33m\u001B[0m\u001B[1;33m\u001B[0m\u001B[0m\n\u001B[0;32m     15\u001B[0m         \u001B[0mweight_grad\u001B[0m \u001B[1;33m=\u001B[0m \u001B[0mweight_grad\u001B[0m \u001B[1;33m/\u001B[0m \u001B[0mmax\u001B[0m\u001B[1;33m(\u001B[0m\u001B[1;36m1\u001B[0m\u001B[1;33m,\u001B[0m \u001B[0mweight_grad\u001B[0m\u001B[1;33m.\u001B[0m\u001B[0mnorm\u001B[0m\u001B[1;33m(\u001B[0m\u001B[1;36m1\u001B[0m\u001B[1;33m)\u001B[0m \u001B[1;33m/\u001B[0m \u001B[1;36m3.9219e-04\u001B[0m\u001B[1;33m)\u001B[0m\u001B[1;33m\u001B[0m\u001B[1;33m\u001B[0m\u001B[0m\n",
      "\u001B[1;32m~\\Anaconda3\\envs\\pysyft\\lib\\site-packages\\syft\\generic\\abstract\\tensor.py\u001B[0m in \u001B[0;36mcopy\u001B[1;34m(self)\u001B[0m\n\u001B[0;32m     82\u001B[0m \u001B[1;33m\u001B[0m\u001B[0m\n\u001B[0;32m     83\u001B[0m     \u001B[1;32mdef\u001B[0m \u001B[0mcopy\u001B[0m\u001B[1;33m(\u001B[0m\u001B[0mself\u001B[0m\u001B[1;33m)\u001B[0m\u001B[1;33m:\u001B[0m\u001B[1;33m\u001B[0m\u001B[1;33m\u001B[0m\u001B[0m\n\u001B[1;32m---> 84\u001B[1;33m         \u001B[1;32mreturn\u001B[0m \u001B[0mself\u001B[0m \u001B[1;33m+\u001B[0m \u001B[1;36m0\u001B[0m\u001B[1;33m\u001B[0m\u001B[1;33m\u001B[0m\u001B[0m\n\u001B[0m\u001B[0;32m     85\u001B[0m \u001B[1;33m\u001B[0m\u001B[0m\n\u001B[0;32m     86\u001B[0m     \u001B[1;32mdef\u001B[0m \u001B[0mclone\u001B[0m\u001B[1;33m(\u001B[0m\u001B[0mself\u001B[0m\u001B[1;33m)\u001B[0m\u001B[1;33m:\u001B[0m\u001B[1;33m\u001B[0m\u001B[1;33m\u001B[0m\u001B[0m\n",
      "\u001B[1;32m~\\Anaconda3\\envs\\pysyft\\lib\\site-packages\\syft\\generic\\frameworks\\hook\\hook.py\u001B[0m in \u001B[0;36moverloaded_native_method\u001B[1;34m(self, *args, **kwargs)\u001B[0m\n\u001B[0;32m    207\u001B[0m                 \u001B[1;31m# Send the new command to the appropriate class and get the response\u001B[0m\u001B[1;33m\u001B[0m\u001B[1;33m\u001B[0m\u001B[1;33m\u001B[0m\u001B[0m\n\u001B[0;32m    208\u001B[0m                 \u001B[0mmethod\u001B[0m \u001B[1;33m=\u001B[0m \u001B[0mgetattr\u001B[0m\u001B[1;33m(\u001B[0m\u001B[0mnew_self\u001B[0m\u001B[1;33m,\u001B[0m \u001B[0mmethod_name\u001B[0m\u001B[1;33m)\u001B[0m\u001B[1;33m\u001B[0m\u001B[1;33m\u001B[0m\u001B[0m\n\u001B[1;32m--> 209\u001B[1;33m                 \u001B[0mresponse\u001B[0m \u001B[1;33m=\u001B[0m \u001B[0mmethod\u001B[0m\u001B[1;33m(\u001B[0m\u001B[1;33m*\u001B[0m\u001B[0mnew_args\u001B[0m\u001B[1;33m,\u001B[0m \u001B[1;33m**\u001B[0m\u001B[0mnew_kwargs\u001B[0m\u001B[1;33m)\u001B[0m\u001B[1;33m\u001B[0m\u001B[1;33m\u001B[0m\u001B[0m\n\u001B[0m\u001B[0;32m    210\u001B[0m \u001B[1;33m\u001B[0m\u001B[0m\n\u001B[0;32m    211\u001B[0m                 \u001B[1;31m# For inplace methods, just directly return self\u001B[0m\u001B[1;33m\u001B[0m\u001B[1;33m\u001B[0m\u001B[1;33m\u001B[0m\u001B[0m\n",
      "\u001B[1;32m~\\Anaconda3\\envs\\pysyft\\lib\\site-packages\\syft\\generic\\frameworks\\hook\\pointers.py\u001B[0m in \u001B[0;36moverloaded_pointer_method\u001B[1;34m(self, *args, **kwargs)\u001B[0m\n\u001B[0;32m     82\u001B[0m \u001B[1;33m\u001B[0m\u001B[0m\n\u001B[0;32m     83\u001B[0m             \u001B[1;31m# Send the command\u001B[0m\u001B[1;33m\u001B[0m\u001B[1;33m\u001B[0m\u001B[1;33m\u001B[0m\u001B[0m\n\u001B[1;32m---> 84\u001B[1;33m             \u001B[0mresponse\u001B[0m \u001B[1;33m=\u001B[0m \u001B[0mowner\u001B[0m\u001B[1;33m.\u001B[0m\u001B[0msend_command\u001B[0m\u001B[1;33m(\u001B[0m\u001B[0mlocation\u001B[0m\u001B[1;33m,\u001B[0m \u001B[0mattr\u001B[0m\u001B[1;33m,\u001B[0m \u001B[0mself\u001B[0m\u001B[1;33m,\u001B[0m \u001B[0margs\u001B[0m\u001B[1;33m,\u001B[0m \u001B[0mkwargs\u001B[0m\u001B[1;33m)\u001B[0m\u001B[1;33m\u001B[0m\u001B[1;33m\u001B[0m\u001B[0m\n\u001B[0m\u001B[0;32m     85\u001B[0m \u001B[1;33m\u001B[0m\u001B[0m\n\u001B[0;32m     86\u001B[0m             \u001B[1;31m# For inplace methods, just directly return self\u001B[0m\u001B[1;33m\u001B[0m\u001B[1;33m\u001B[0m\u001B[1;33m\u001B[0m\u001B[0m\n",
      "\u001B[1;32m~\\Anaconda3\\envs\\pysyft\\lib\\site-packages\\syft\\workers\\base.py\u001B[0m in \u001B[0;36msend_command\u001B[1;34m(self, recipient, cmd_name, target, args_, kwargs_, return_ids, return_value)\u001B[0m\n\u001B[0;32m    523\u001B[0m                 \u001B[0mcmd_name\u001B[0m\u001B[1;33m,\u001B[0m \u001B[0mtarget\u001B[0m\u001B[1;33m,\u001B[0m \u001B[0margs_\u001B[0m\u001B[1;33m,\u001B[0m \u001B[0mkwargs_\u001B[0m\u001B[1;33m,\u001B[0m \u001B[0mreturn_ids\u001B[0m\u001B[1;33m,\u001B[0m \u001B[0mreturn_value\u001B[0m\u001B[1;33m\u001B[0m\u001B[1;33m\u001B[0m\u001B[0m\n\u001B[0;32m    524\u001B[0m             )\n\u001B[1;32m--> 525\u001B[1;33m             \u001B[0mret_val\u001B[0m \u001B[1;33m=\u001B[0m \u001B[0mself\u001B[0m\u001B[1;33m.\u001B[0m\u001B[0msend_msg\u001B[0m\u001B[1;33m(\u001B[0m\u001B[0mmessage\u001B[0m\u001B[1;33m,\u001B[0m \u001B[0mlocation\u001B[0m\u001B[1;33m=\u001B[0m\u001B[0mrecipient\u001B[0m\u001B[1;33m)\u001B[0m\u001B[1;33m\u001B[0m\u001B[1;33m\u001B[0m\u001B[0m\n\u001B[0m\u001B[0;32m    526\u001B[0m         \u001B[1;32mexcept\u001B[0m \u001B[0mResponseSignatureError\u001B[0m \u001B[1;32mas\u001B[0m \u001B[0me\u001B[0m\u001B[1;33m:\u001B[0m\u001B[1;33m\u001B[0m\u001B[1;33m\u001B[0m\u001B[0m\n\u001B[0;32m    527\u001B[0m             \u001B[0mret_val\u001B[0m \u001B[1;33m=\u001B[0m \u001B[1;32mNone\u001B[0m\u001B[1;33m\u001B[0m\u001B[1;33m\u001B[0m\u001B[0m\n",
      "\u001B[1;32m~\\Anaconda3\\envs\\pysyft\\lib\\site-packages\\syft\\workers\\base.py\u001B[0m in \u001B[0;36msend_msg\u001B[1;34m(self, message, location)\u001B[0m\n\u001B[0;32m    314\u001B[0m \u001B[1;33m\u001B[0m\u001B[0m\n\u001B[0;32m    315\u001B[0m         \u001B[1;31m# Step 2: send the message and wait for a response\u001B[0m\u001B[1;33m\u001B[0m\u001B[1;33m\u001B[0m\u001B[1;33m\u001B[0m\u001B[0m\n\u001B[1;32m--> 316\u001B[1;33m         \u001B[0mbin_response\u001B[0m \u001B[1;33m=\u001B[0m \u001B[0mself\u001B[0m\u001B[1;33m.\u001B[0m\u001B[0m_send_msg\u001B[0m\u001B[1;33m(\u001B[0m\u001B[0mbin_message\u001B[0m\u001B[1;33m,\u001B[0m \u001B[0mlocation\u001B[0m\u001B[1;33m)\u001B[0m\u001B[1;33m\u001B[0m\u001B[1;33m\u001B[0m\u001B[0m\n\u001B[0m\u001B[0;32m    317\u001B[0m \u001B[1;33m\u001B[0m\u001B[0m\n\u001B[0;32m    318\u001B[0m         \u001B[1;31m# Step 3: deserialize the response\u001B[0m\u001B[1;33m\u001B[0m\u001B[1;33m\u001B[0m\u001B[1;33m\u001B[0m\u001B[0m\n",
      "\u001B[1;32m~\\Anaconda3\\envs\\pysyft\\lib\\site-packages\\syft\\workers\\virtual.py\u001B[0m in \u001B[0;36m_send_msg\u001B[1;34m(self, message, location)\u001B[0m\n\u001B[0;32m     10\u001B[0m         \u001B[1;34m\"\"\"send message to worker location\"\"\"\u001B[0m\u001B[1;33m\u001B[0m\u001B[1;33m\u001B[0m\u001B[0m\n\u001B[0;32m     11\u001B[0m \u001B[1;33m\u001B[0m\u001B[0m\n\u001B[1;32m---> 12\u001B[1;33m         \u001B[1;32mreturn\u001B[0m \u001B[0mlocation\u001B[0m\u001B[1;33m.\u001B[0m\u001B[0m_recv_msg\u001B[0m\u001B[1;33m(\u001B[0m\u001B[0mmessage\u001B[0m\u001B[1;33m)\u001B[0m\u001B[1;33m\u001B[0m\u001B[1;33m\u001B[0m\u001B[0m\n\u001B[0m\u001B[0;32m     13\u001B[0m \u001B[1;33m\u001B[0m\u001B[0m\n\u001B[0;32m     14\u001B[0m     \u001B[1;32mdef\u001B[0m \u001B[0m_recv_msg\u001B[0m\u001B[1;33m(\u001B[0m\u001B[0mself\u001B[0m\u001B[1;33m,\u001B[0m \u001B[0mmessage\u001B[0m\u001B[1;33m:\u001B[0m \u001B[0mbin\u001B[0m\u001B[1;33m)\u001B[0m \u001B[1;33m->\u001B[0m \u001B[0mbin\u001B[0m\u001B[1;33m:\u001B[0m\u001B[1;33m\u001B[0m\u001B[1;33m\u001B[0m\u001B[0m\n",
      "\u001B[1;32m~\\Anaconda3\\envs\\pysyft\\lib\\site-packages\\syft\\workers\\virtual.py\u001B[0m in \u001B[0;36m_recv_msg\u001B[1;34m(self, message)\u001B[0m\n\u001B[0;32m     20\u001B[0m             \u001B[0msleep\u001B[0m\u001B[1;33m(\u001B[0m\u001B[0mself\u001B[0m\u001B[1;33m.\u001B[0m\u001B[0mmessage_pending_time\u001B[0m\u001B[1;33m)\u001B[0m\u001B[1;33m\u001B[0m\u001B[1;33m\u001B[0m\u001B[0m\n\u001B[0;32m     21\u001B[0m \u001B[1;33m\u001B[0m\u001B[0m\n\u001B[1;32m---> 22\u001B[1;33m         \u001B[1;32mreturn\u001B[0m \u001B[0mself\u001B[0m\u001B[1;33m.\u001B[0m\u001B[0mrecv_msg\u001B[0m\u001B[1;33m(\u001B[0m\u001B[0mmessage\u001B[0m\u001B[1;33m)\u001B[0m\u001B[1;33m\u001B[0m\u001B[1;33m\u001B[0m\u001B[0m\n\u001B[0m\u001B[0;32m     23\u001B[0m \u001B[1;33m\u001B[0m\u001B[0m\n\u001B[0;32m     24\u001B[0m     \u001B[1;31m# For backwards compatibility with Udacity course\u001B[0m\u001B[1;33m\u001B[0m\u001B[1;33m\u001B[0m\u001B[1;33m\u001B[0m\u001B[0m\n",
      "\u001B[1;32m~\\Anaconda3\\envs\\pysyft\\lib\\site-packages\\syft\\workers\\base.py\u001B[0m in \u001B[0;36mrecv_msg\u001B[1;34m(self, bin_message)\u001B[0m\n\u001B[0;32m    336\u001B[0m         \"\"\"\n\u001B[0;32m    337\u001B[0m         \u001B[1;31m# Step 0: deserialize message\u001B[0m\u001B[1;33m\u001B[0m\u001B[1;33m\u001B[0m\u001B[1;33m\u001B[0m\u001B[0m\n\u001B[1;32m--> 338\u001B[1;33m         \u001B[0mmsg\u001B[0m \u001B[1;33m=\u001B[0m \u001B[0msy\u001B[0m\u001B[1;33m.\u001B[0m\u001B[0mserde\u001B[0m\u001B[1;33m.\u001B[0m\u001B[0mdeserialize\u001B[0m\u001B[1;33m(\u001B[0m\u001B[0mbin_message\u001B[0m\u001B[1;33m,\u001B[0m \u001B[0mworker\u001B[0m\u001B[1;33m=\u001B[0m\u001B[0mself\u001B[0m\u001B[1;33m)\u001B[0m\u001B[1;33m\u001B[0m\u001B[1;33m\u001B[0m\u001B[0m\n\u001B[0m\u001B[0;32m    339\u001B[0m \u001B[1;33m\u001B[0m\u001B[0m\n\u001B[0;32m    340\u001B[0m         \u001B[1;31m# Step 1: save message and/or log it out\u001B[0m\u001B[1;33m\u001B[0m\u001B[1;33m\u001B[0m\u001B[1;33m\u001B[0m\u001B[0m\n",
      "\u001B[1;32m~\\Anaconda3\\envs\\pysyft\\lib\\site-packages\\syft\\serde\\serde.py\u001B[0m in \u001B[0;36mdeserialize\u001B[1;34m(binary, worker, strategy)\u001B[0m\n\u001B[0;32m     76\u001B[0m         \u001B[0mstrategy\u001B[0m \u001B[1;33m=\u001B[0m \u001B[0mmsgpack_deserialize\u001B[0m\u001B[1;33m\u001B[0m\u001B[1;33m\u001B[0m\u001B[0m\n\u001B[0;32m     77\u001B[0m \u001B[1;33m\u001B[0m\u001B[0m\n\u001B[1;32m---> 78\u001B[1;33m     \u001B[1;32mreturn\u001B[0m \u001B[0mstrategy\u001B[0m\u001B[1;33m(\u001B[0m\u001B[0mbinary\u001B[0m\u001B[1;33m,\u001B[0m \u001B[0mworker\u001B[0m\u001B[1;33m)\u001B[0m\u001B[1;33m\u001B[0m\u001B[1;33m\u001B[0m\u001B[0m\n\u001B[0m",
      "\u001B[1;32m~\\Anaconda3\\envs\\pysyft\\lib\\site-packages\\syft\\serde\\msgpack\\serde.py\u001B[0m in \u001B[0;36mdeserialize\u001B[1;34m(binary, worker)\u001B[0m\n\u001B[0;32m    380\u001B[0m         \u001B[0mworker\u001B[0m \u001B[1;33m=\u001B[0m \u001B[0msyft\u001B[0m\u001B[1;33m.\u001B[0m\u001B[0mframework\u001B[0m\u001B[1;33m.\u001B[0m\u001B[0mhook\u001B[0m\u001B[1;33m.\u001B[0m\u001B[0mlocal_worker\u001B[0m\u001B[1;33m\u001B[0m\u001B[1;33m\u001B[0m\u001B[0m\n\u001B[0;32m    381\u001B[0m \u001B[1;33m\u001B[0m\u001B[0m\n\u001B[1;32m--> 382\u001B[1;33m     \u001B[0msimple_objects\u001B[0m \u001B[1;33m=\u001B[0m \u001B[0m_deserialize_msgpack_binary\u001B[0m\u001B[1;33m(\u001B[0m\u001B[0mbinary\u001B[0m\u001B[1;33m,\u001B[0m \u001B[0mworker\u001B[0m\u001B[1;33m)\u001B[0m\u001B[1;33m\u001B[0m\u001B[1;33m\u001B[0m\u001B[0m\n\u001B[0m\u001B[0;32m    383\u001B[0m     \u001B[1;32mreturn\u001B[0m \u001B[0m_deserialize_msgpack_simple\u001B[0m\u001B[1;33m(\u001B[0m\u001B[0msimple_objects\u001B[0m\u001B[1;33m,\u001B[0m \u001B[0mworker\u001B[0m\u001B[1;33m)\u001B[0m\u001B[1;33m\u001B[0m\u001B[1;33m\u001B[0m\u001B[0m\n\u001B[0;32m    384\u001B[0m \u001B[1;33m\u001B[0m\u001B[0m\n",
      "\u001B[1;32m~\\Anaconda3\\envs\\pysyft\\lib\\site-packages\\syft\\serde\\msgpack\\serde.py\u001B[0m in \u001B[0;36m_deserialize_msgpack_binary\u001B[1;34m(binary, worker)\u001B[0m\n\u001B[0;32m    350\u001B[0m \u001B[1;33m\u001B[0m\u001B[0m\n\u001B[0;32m    351\u001B[0m     \u001B[1;31m# 1) Decompress the binary if needed\u001B[0m\u001B[1;33m\u001B[0m\u001B[1;33m\u001B[0m\u001B[1;33m\u001B[0m\u001B[0m\n\u001B[1;32m--> 352\u001B[1;33m     \u001B[0mbinary\u001B[0m \u001B[1;33m=\u001B[0m \u001B[0mcompression\u001B[0m\u001B[1;33m.\u001B[0m\u001B[0m_decompress\u001B[0m\u001B[1;33m(\u001B[0m\u001B[0mbinary\u001B[0m\u001B[1;33m)\u001B[0m\u001B[1;33m\u001B[0m\u001B[1;33m\u001B[0m\u001B[0m\n\u001B[0m\u001B[0;32m    353\u001B[0m \u001B[1;33m\u001B[0m\u001B[0m\n\u001B[0;32m    354\u001B[0m     \u001B[1;31m# 2) Deserialize\u001B[0m\u001B[1;33m\u001B[0m\u001B[1;33m\u001B[0m\u001B[1;33m\u001B[0m\u001B[0m\n",
      "\u001B[1;32m~\\Anaconda3\\envs\\pysyft\\lib\\site-packages\\syft\\serde\\compression.py\u001B[0m in \u001B[0;36m_decompress\u001B[1;34m(binary)\u001B[0m\n\u001B[0;32m    125\u001B[0m     \u001B[1;31m# 1)  Decompress or return the original stream\u001B[0m\u001B[1;33m\u001B[0m\u001B[1;33m\u001B[0m\u001B[1;33m\u001B[0m\u001B[0m\n\u001B[0;32m    126\u001B[0m     \u001B[1;32mif\u001B[0m \u001B[0mcompress_scheme\u001B[0m \u001B[1;33m==\u001B[0m \u001B[0mLZ4\u001B[0m\u001B[1;33m:\u001B[0m\u001B[1;33m\u001B[0m\u001B[1;33m\u001B[0m\u001B[0m\n\u001B[1;32m--> 127\u001B[1;33m         \u001B[1;32mreturn\u001B[0m \u001B[0mlz4\u001B[0m\u001B[1;33m.\u001B[0m\u001B[0mframe\u001B[0m\u001B[1;33m.\u001B[0m\u001B[0mdecompress\u001B[0m\u001B[1;33m(\u001B[0m\u001B[0mbinary\u001B[0m\u001B[1;33m)\u001B[0m\u001B[1;33m\u001B[0m\u001B[1;33m\u001B[0m\u001B[0m\n\u001B[0m\u001B[0;32m    128\u001B[0m     \u001B[1;32melif\u001B[0m \u001B[0mcompress_scheme\u001B[0m \u001B[1;33m==\u001B[0m \u001B[0mZLIB\u001B[0m\u001B[1;33m:\u001B[0m\u001B[1;33m\u001B[0m\u001B[1;33m\u001B[0m\u001B[0m\n\u001B[0;32m    129\u001B[0m         \u001B[1;32mreturn\u001B[0m \u001B[0mzlib\u001B[0m\u001B[1;33m.\u001B[0m\u001B[0mdecompress\u001B[0m\u001B[1;33m(\u001B[0m\u001B[0mbinary\u001B[0m\u001B[1;33m)\u001B[0m\u001B[1;33m\u001B[0m\u001B[1;33m\u001B[0m\u001B[0m\n",
      "\u001B[1;31mKeyboardInterrupt\u001B[0m: "
     ]
    }
   ],
   "source": [
    "# model training using FedAvg algorithm -- gradient averaging (LDP + MPC)\n",
    "model = nn.Linear(2, 1)\n",
    "train_loss_GradAvg = []\n",
    "val_loss_GradAvg = []\n",
    "for round_iter in range(1500):\n",
    "    bobs_model = model.copy().send(bob)\n",
    "    alices_model = model.copy().send(alice)\n",
    "    opt = optim.SGD(params=model.parameters(), lr=0.1 * 500)\n",
    "\n",
    "    bobs_weight_grad = 0\n",
    "    bobs_bias_grad = 0\n",
    "    for example, target in zip(bobs_data, bobs_target):\n",
    "        weight_grad = th.mm(th.mm(example.copy().get().view(1, 2), bobs_model.weight.copy().get().transpose(1, 0)) + bobs_model.bias.copy().get() - target.copy().get(), example.copy().get().view(1, 2)) * 2\n",
    "        weight_grad = weight_grad.data\n",
    "        weight_grad = weight_grad / max(1, weight_grad.norm(1) / 3.9219e-04)\n",
    "        bias_grad = (th.mm(example.copy().get().view(1, 2), bobs_model.weight.copy().get().transpose(1, 0)) + bobs_model.bias.copy().get() - target.copy().get()) * 2\n",
    "        bias_grad = bias_grad.data.view(-1)\n",
    "        bias_grad = bias_grad / max(1, bias_grad.norm(1) / 4.4978e-04)\n",
    "        bobs_weight_grad += weight_grad\n",
    "        bobs_bias_grad += bias_grad\n",
    "\n",
    "    alices_weight_grad = 0\n",
    "    alices_bias_grad = 0\n",
    "    for example, target in zip(alices_data, alices_target):\n",
    "        weight_grad = th.mm(th.mm(example.copy().get().view(1, 2), alices_model.weight.copy().get().transpose(1, 0)) + alices_model.bias.copy().get() - target.copy().get(), example.copy().get().view(1, 2)) * 2\n",
    "        weight_grad = weight_grad.data\n",
    "        weight_grad = weight_grad / max(1, weight_grad.norm(1) / 3.9020e-04)\n",
    "        bias_grad = (th.mm(example.copy().get().view(1, 2), alices_model.weight.copy().get().transpose(1, 0)) + alices_model.bias.copy().get() - target.copy().get()) * 2\n",
    "        bias_grad = bias_grad.data.view(-1)\n",
    "        bias_grad = bias_grad / max(1, bias_grad.norm(1) / 4.3543e-04)\n",
    "        alices_weight_grad += weight_grad\n",
    "        alices_bias_grad += bias_grad\n",
    "\n",
    "    bobs_model.get()\n",
    "    alices_model.get()\n",
    "\n",
    "    bobs_model.weight.grad = (bobs_weight_grad + th.tensor(np.random.laplace(0, 3.9219e-04 / 0.1, 2).reshape(1, 2), dtype=torch.float32)) / len(bobs_data)\n",
    "    bobs_model.bias.grad = (bobs_bias_grad + th.tensor(np.random.laplace(0, 4.4978e-04 / 0.1, 1), dtype=torch.float32)) / len(bobs_data)\n",
    "    alices_model.weight.grad = (alices_weight_grad + th.tensor(np.random.laplace(0, 3.9020e-04 / 0.1, 2).reshape(1, 2), dtype=torch.float32)) / len(alices_data)\n",
    "    alices_model.bias.grad = (alices_bias_grad + th.tensor(np.random.laplace(0, 4.3543e-04 / 0.1, 1), dtype=torch.float32)) / len(alices_data)\n",
    "\n",
    "    for param, alices_param, bobs_param in zip(model.parameters(), alices_model.parameters(), bobs_model.parameters()):\n",
    "        param.grad = (alices_param.grad.fix_precision(base=10, precision_fractional=6).share(server_1, server_2, server_3) + bobs_param.grad.fix_precision(base=10, precision_fractional=6).share(server_1, server_2, server_3)).get().float_precision() / 2\n",
    "\n",
    "    opt.step()\n",
    "\n",
    "    pred = model(data_train)\n",
    "    loss = ((pred - target_train) ** 2).sum() / len(data_train)\n",
    "    train_loss = loss.data\n",
    "    train_loss_GradAvg.append(round(train_loss.item(), 4))\n",
    "    pred = model(data_val)\n",
    "    loss = ((pred - target_val) ** 2).sum() / len(data_val)\n",
    "    val_loss = loss.data\n",
    "    val_loss_GradAvg.append(round(val_loss.item(), 4))\n",
    "    print(str(round_iter+1) + ' train loss:' + str(train_loss) + ' val loss:' + str(val_loss))\n"
   ],
   "metadata": {
    "collapsed": false
   }
  },
  {
   "cell_type": "code",
   "execution_count": 26,
   "outputs": [],
   "source": [
    "%matplotlib inline"
   ],
   "metadata": {
    "collapsed": false
   }
  },
  {
   "cell_type": "code",
   "execution_count": 27,
   "outputs": [
    {
     "data": {
      "text/plain": "<Figure size 640x480 with 1 Axes>",
      "image/png": "[encoded data removed]"
     },
     "metadata": {},
     "output_type": "display_data"
    }
   ],
   "source": [
    "# plot learning curves\n",
    "import matplotlib.pyplot as plt\n",
    "\n",
    "plt.plot(train_loss_GradAvg[:], label='train_loss')\n",
    "plt.plot(val_loss_GradAvg[:], label='val_loss')\n",
    "plt.legend(loc='best')\n",
    "plt.xlabel('# communications')\n",
    "plt.ylabel('Loss')\n",
    "plt.show()"
   ],
   "metadata": {
    "collapsed": false
   }
  },
  {
   "cell_type": "code",
   "execution_count": null,
   "outputs": [],
   "source": [],
   "metadata": {
    "collapsed": false
   }
  }
 ],
 "metadata": {
  "kernelspec": {
   "display_name": "Python 3",
   "language": "python",
   "name": "python3"
  },
  "language_info": {
   "codemirror_mode": {
    "name": "ipython",
    "version": 2
   },
   "file_extension": ".py",
   "mimetype": "text/x-python",
   "name": "python",
   "nbconvert_exporter": "python",
   "pygments_lexer": "ipython2",
   "version": "2.7.6"
  }
 },
 "nbformat": 4,
 "nbformat_minor": 0
}
